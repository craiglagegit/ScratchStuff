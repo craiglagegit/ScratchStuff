{
 "cells": [
  {
   "cell_type": "markdown",
   "metadata": {},
   "source": [
    "Look at the evolution of the sky coverage.  If a template image has to come from a same-vendor chip, it takes longer to build up the sky template archive. "
   ]
  },
  {
   "cell_type": "code",
   "execution_count": 1,
   "metadata": {
    "collapsed": true
   },
   "outputs": [],
   "source": [
    "%matplotlib inline\n",
    "import numpy as np\n",
    "import matplotlib.pyplot as plt\n",
    "from matplotlib.patches import Rectangle\n",
    "\n",
    "import lsst.sims.maf.slicers as slicers\n",
    "import lsst.sims.maf.metrics as metrics\n",
    "import lsst.sims.maf.metricBundles as metricBundles\n",
    "import lsst.sims.maf.db as db\n",
    "from lsst.sims.maf.plots import PlotHandler\n",
    "import healpy as hp"
   ]
  },
  {
   "cell_type": "code",
   "execution_count": 2,
   "metadata": {
    "collapsed": false
   },
   "outputs": [
    {
     "data": {
      "image/png": "[encoded data removed]",
      "text/plain": [
       "<matplotlib.figure.Figure at 0x116d62b10>"
      ]
     },
     "metadata": {},
     "output_type": "display_data"
    }
   ],
   "source": [
    "def drawRaft(ax, xLL, yLL, color='#CCCCCC', width = 1.0, height = 1.0, plotCCDs = 1):\n",
    "\n",
    "    ax.add_patch(Rectangle((yLL, xLL), width, height, fill=True, color=color, ec='k'))\n",
    "    # raft frame\n",
    "    ax.plot([xLL, xLL], [yLL, yLL+height], 'black', linewidth=2)\n",
    "    ax.plot([xLL+width, xLL+width], [yLL, yLL+height], 'black', linewidth=2)\n",
    "    ax.plot([xLL, xLL+width], [yLL, yLL], 'black', linewidth=2)\n",
    "    ax.plot([xLL, xLL+width], [yLL+height, yLL+height], 'black', linewidth=2)\n",
    "\n",
    "    if plotCCDs: \n",
    "        ax.plot([xLL+width/3.0, xLL+width/3.0], [yLL, yLL+height], 'black', linewidth=1)\n",
    "        ax.plot([xLL+2*width/3.0, xLL+2*width/3.0], [yLL, yLL+height], 'black', linewidth=1)\n",
    "        ax.plot([xLL, xLL+width], [yLL+height/3.0, yLL+height/3.0], 'black', linewidth=1)\n",
    "        ax.plot([xLL, xLL+width], [yLL+2*height/3.0, yLL+2*height/3.0], 'black', linewidth=1)\n",
    "\n",
    "def plotHybridFOV(axes, option):\n",
    "\n",
    "    # title \n",
    "    axes.set_title(option)\n",
    "\n",
    "    # axes limits\n",
    "    axes.set_xlim(0, 5.1)\n",
    "    axes.set_ylim(0, 5.1)\n",
    "\n",
    "    for i in (1, 2, 3): \n",
    "        for j in range(0,5):\n",
    "            drawRaft(axes, i, j, color = 'red')\n",
    "    for i in (0, 4): \n",
    "        for j in range(1,4):\n",
    "            drawRaft(axes, i, j, color = 'red')\n",
    "            \n",
    "    if (option == 'A'):\n",
    "        drawRaft(axes, 0, 2)\n",
    "        drawRaft(axes, 1, 1)\n",
    "        drawRaft(axes, 1, 3)\n",
    "        drawRaft(axes, 2, 0)\n",
    "        drawRaft(axes, 2, 2)\n",
    "        drawRaft(axes, 2, 4)\n",
    "        drawRaft(axes, 3, 1)\n",
    "        drawRaft(axes, 3, 3)\n",
    "        drawRaft(axes, 4, 2)\n",
    "\n",
    "    if (option == 'B'):\n",
    "        drawRaft(axes, 0, 1)\n",
    "        drawRaft(axes, 0, 2)\n",
    "        drawRaft(axes, 0, 3)\n",
    "        drawRaft(axes, 1, 0)\n",
    "        drawRaft(axes, 1, 1)\n",
    "        drawRaft(axes, 1, 2)\n",
    "        drawRaft(axes, 2, 0)\n",
    "        drawRaft(axes, 2, 1)\n",
    "        drawRaft(axes, 3, 0)\n",
    "\n",
    "    if (option == 'C'):\n",
    "        drawRaft(axes, 0, 1)\n",
    "        drawRaft(axes, 0, 3)\n",
    "        drawRaft(axes, 1, 0)\n",
    "        drawRaft(axes, 1, 4)\n",
    "        drawRaft(axes, 3, 0)\n",
    "        drawRaft(axes, 3, 4)\n",
    "        drawRaft(axes, 4, 1)\n",
    "        drawRaft(axes, 4, 3)\n",
    "\n",
    "    if (option == 'D'):\n",
    "        drawRaft(axes, 1, 1)\n",
    "        drawRaft(axes, 1, 3)\n",
    "        drawRaft(axes, 2, 2)\n",
    "        drawRaft(axes, 3, 1)\n",
    "        drawRaft(axes, 3, 3)\n",
    "\n",
    "    if (option == 'E'):\n",
    "        drawRaft(axes, 1, 2)\n",
    "        drawRaft(axes, 2, 1)\n",
    "        drawRaft(axes, 2, 2)\n",
    "        drawRaft(axes, 2, 3)\n",
    "        drawRaft(axes, 3, 2)\n",
    "\n",
    "    if (option == 'F'):\n",
    "        drawRaft(axes, 0, 2)\n",
    "        drawRaft(axes, 2, 0)\n",
    "        drawRaft(axes, 2, 4)\n",
    "        drawRaft(axes, 4, 2)\n",
    "     \n",
    "\n",
    "### plot a 6-panel figure with hybrid focal plane realizations\n",
    "def plotHybridFOVoptions(): \n",
    "\n",
    "    # Create figure and subplots\n",
    "    fig = plt.figure(figsize=(8, 10))\n",
    "    # this work well in *.py version but not so well in ipython notebook\n",
    "    fig.subplots_adjust(wspace=0.25, left=0.1, right=0.9, bottom=0.05, top=0.95)\n",
    "\n",
    "    optionsList = ('A', 'B', 'C', 'D', 'E', 'F')\n",
    "    plotNo = 0\n",
    "    for option in optionsList:\n",
    "        plotNo += 1\n",
    "        axes = plt.subplot(3, 2, plotNo, xticks=[], yticks=[], frameon=False)\n",
    "        plotHybridFOV(axes, option)\n",
    "\n",
    "    #plt.savefig('./HybridFOVoptions.png')\n",
    "    plt.show() \n",
    "\n",
    "\n",
    "### \n",
    "plotHybridFOVoptions()"
   ]
  },
  {
   "cell_type": "code",
   "execution_count": 3,
   "metadata": {
    "collapsed": true
   },
   "outputs": [],
   "source": [
    "# Set up each configuration to return a list of chips in a way MAF understands\n",
    "# Let's do this for a hybrid focal plane\n",
    "def makeChipList(raftConfig):\n",
    "    raftDict = {'R:1,0':1,\n",
    "                'R:2,0':2 ,\n",
    "                'R:3,0':3 ,\n",
    "                'R:0,1':4 ,\n",
    "                'R:1,1':5 ,\n",
    "                'R:2,1':6 ,\n",
    "                'R:3,1':7 ,\n",
    "                'R:4,1':8 ,\n",
    "                'R:0,2':9 ,\n",
    "                'R:1,2':10,\n",
    "                'R:2,2':11,\n",
    "                'R:3,2':12,\n",
    "                'R:4,2':13,\n",
    "                'R:0,3':14,\n",
    "                'R:1,3':15,\n",
    "                'R:2,3':16,\n",
    "                'R:3,3':17,\n",
    "                'R:4,3':18,\n",
    "                'R:1,4':19,\n",
    "                'R:2,4':20,\n",
    "                'R:3,4':21}\n",
    "\n",
    "    sensors = ['S:0,0', 'S:0,1', 'S:0,2',\n",
    "               'S:1,0', 'S:1,1', 'S:1,2',\n",
    "               'S:2,0', 'S:2,1', 'S:2,2',]\n",
    "\n",
    "\n",
    "    raftReverseDict = {}\n",
    "    for key in raftDict:\n",
    "        raftReverseDict[raftDict[key]] = key\n",
    "    raftConfigs = {'A':{'rafts2':[1,3,4,6,8,10,12,14,16,18,19,21], 'rafts1':[2,5,7,9,11,13,15,17,20]},\n",
    "                   'B':{'rafts2':[7,8,11,12,13,15,16,17,18,19,20,21], 'rafts1':[1,2,3,4,5,6,9,10,14]},\n",
    "                   'C':{'rafts2':[2,5,6,7,9,10,11,12,13,15,16,17,20], 'rafts1':[1,3,4,8,14,18,19,21]},\n",
    "                   'D':{'rafts2':[1,2,3,4,6,8,9,10,12,13,14,16,18,19,20,21], 'rafts1':[5,7,11,15,17]},\n",
    "                   'E':{'rafts2':[1,2,3,4,5,7,8,9,13,14,15,17,18,19,20,21], 'rafts1':[6,10,11,12,16]},\n",
    "                   'F':{'rafts2':[1,2,3,4,5,7,8,9,13,14,15,17,18,19,20,21], 'rafts1':[6,10,11,12,16]}\n",
    "                  }\n",
    "    rafts1 = []\n",
    "    rafts2 = []\n",
    "    for indx in raftConfigs[raftConfig]['rafts1']:\n",
    "        rafts1.append(raftReverseDict[indx])\n",
    "\n",
    "    for indx in raftConfigs[raftConfig]['rafts2']:\n",
    "        rafts2.append(raftReverseDict[indx])\n",
    "\n",
    "    chips1 = []\n",
    "    for raft in rafts1:\n",
    "        for sensor in sensors:\n",
    "            chips1.append(raft+' '+sensor)\n",
    "\n",
    "    chips2 = []\n",
    "    for raft in rafts2:\n",
    "        for sensor in sensors:\n",
    "            chips2.append(raft+' '+sensor)\n",
    "    return chips1, chips2"
   ]
  },
  {
   "cell_type": "code",
   "execution_count": null,
   "metadata": {
    "collapsed": true
   },
   "outputs": [],
   "source": []
  },
  {
   "cell_type": "code",
   "execution_count": 4,
   "metadata": {
    "collapsed": true
   },
   "outputs": [],
   "source": [
    "database = 'enigma_1189_sqlite.db'\n",
    "opsdb = db.OpsimDatabase(database)\n",
    "outDir = 'Template'\n",
    "resultsDb = db.ResultsDb(outDir=outDir)\n",
    "nside = 128"
   ]
  },
  {
   "cell_type": "code",
   "execution_count": 5,
   "metadata": {
    "collapsed": false
   },
   "outputs": [
    {
     "name": "stdout",
     "output_type": "stream",
     "text": [
      "Healpix slicer using NSIDE=128, approximate resolution 27.483891 arcminutes\n",
      "Healpix slicer using NSIDE=128, approximate resolution 27.483891 arcminutes\n",
      "Healpix slicer using NSIDE=128, approximate resolution 27.483891 arcminutes\n",
      "Querying database with constraint filter = \"u\" and night < 1826\n",
      "Found 91228 visits\n",
      "Running:  ['opsim_AccumulateCount_night_night_Chips2_E_HEAL']\n",
      "Completed metric generation.\n",
      "Running:  ['opsim_AccumulateCount_night_night_SingleVendor_HEAL']\n",
      "Completed metric generation.\n",
      "Running:  ['opsim_AccumulateCount_night_night_Chips1_E_HEAL']\n",
      "Completed metric generation.\n",
      "Running reduce methods.\n",
      "Running summary statistics.\n",
      "Completed.\n"
     ]
    }
   ],
   "source": [
    "bundleList = []\n",
    "raftLayout = 'E'\n",
    "filter = 'u'\n",
    "chips1, chips2 = makeChipList(raftLayout)\n",
    "years = 5\n",
    "sqlWhere = 'filter = \"%s\" and night < %i' %(filter, 365.25*years)\n",
    "metric = metrics.AccumulateCountMetric(bins=np.arange(0,365.25*years,1))\n",
    "slicer = slicers.HealpixSlicer(nside=nside, latCol='ditheredDec', lonCol='ditheredRA', useCamera=True, chipNames=chips1)\n",
    "bundleList.append(metricBundles.MetricBundle(metric,slicer,sqlWhere, metadata='Chips1, %s' % raftLayout))\n",
    "slicer = slicers.HealpixSlicer(nside=nside, latCol='ditheredDec', lonCol='ditheredRA', useCamera=True, chipNames=chips2)\n",
    "bundleList.append(metricBundles.MetricBundle(metric,slicer,sqlWhere, metadata='Chips2, %s' % raftLayout))\n",
    "slicer = slicers.HealpixSlicer(nside=nside, latCol='ditheredDec', lonCol='ditheredRA', useCamera=True)\n",
    "bundleList.append(metricBundles.MetricBundle(metric,slicer,sqlWhere, metadata='SingleVendor'))\n",
    "bd = metricBundles.makeBundlesDictFromList(bundleList)\n",
    "bg = metricBundles.MetricBundleGroup(bd,opsdb, outDir=outDir, resultsDb=resultsDb)\n",
    "bg.runAll()"
   ]
  },
  {
   "cell_type": "code",
   "execution_count": null,
   "metadata": {
    "collapsed": true
   },
   "outputs": [],
   "source": []
  },
  {
   "cell_type": "code",
   "execution_count": 12,
   "metadata": {
    "collapsed": false
   },
   "outputs": [],
   "source": [
    "def timeToArea(metricValues, area=20000, nside=128):\n",
    "    \"\"\"\n",
    "    compute how many night it took to reach the area limit (sq degrees)\n",
    "    \"\"\"\n",
    "    pixArea = hp.nside2pixarea(nside, degrees=True)\n",
    "    tmp = metricValues.copy()\n",
    "    tmp[np.where(tmp > 0)] = 1\n",
    "    tmp = np.sum(tmp, axis=0)\n",
    "    tmp *= pixArea\n",
    "    overLimit = np.where(tmp > area)[0]\n",
    "    if np.size(overLimit) > 0:\n",
    "        return np.min(overLimit)\n",
    "    else:\n",
    "        return -1\n"
   ]
  },
  {
   "cell_type": "code",
   "execution_count": 13,
   "metadata": {
    "collapsed": false
   },
   "outputs": [
    {
     "name": "stdout",
     "output_type": "stream",
     "text": [
      "Chips1, E days to 20,000 sq deg covered =  863\n",
      "Chips2, E days to 20,000 sq deg covered =  365\n",
      "SingleVendor days to 20,000 sq deg covered =  273\n"
     ]
    }
   ],
   "source": [
    "for bundle in bundleList:\n",
    "    print bundle.metadata, 'days to 20,000 sq deg covered = ', timeToArea(bundle.metricValues, nside=nside, area=20000)"
   ]
  },
  {
   "cell_type": "code",
   "execution_count": 10,
   "metadata": {
    "collapsed": false
   },
   "outputs": [
    {
     "data": {
      "text/plain": [
       "129"
      ]
     },
     "execution_count": 10,
     "metadata": {},
     "output_type": "execute_result"
    }
   ],
   "source": []
  },
  {
   "cell_type": "code",
   "execution_count": null,
   "metadata": {
    "collapsed": true
   },
   "outputs": [],
   "source": []
  }
 ],
 "metadata": {
  "kernelspec": {
   "display_name": "Python 2",
   "language": "python",
   "name": "python2"
  },
  "language_info": {
   "codemirror_mode": {
    "name": "ipython",
    "version": 2
   },
   "file_extension": ".py",
   "mimetype": "text/x-python",
   "name": "python",
   "nbconvert_exporter": "python",
   "pygments_lexer": "ipython2",
   "version": "2.7.10"
  }
 },
 "nbformat": 4,
 "nbformat_minor": 0
}
