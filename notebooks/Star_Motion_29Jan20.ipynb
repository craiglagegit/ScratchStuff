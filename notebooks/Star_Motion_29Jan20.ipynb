{
 "cells": [
  {
   "cell_type": "markdown",
   "metadata": {},
   "source": [
    "# Notebook for plotting star motion on AuxTel images.\n",
    "Initially written 29 Jan 2020 by Craig Lage."
   ]
  },
  {
   "cell_type": "code",
   "execution_count": null,
   "metadata": {},
   "outputs": [],
   "source": [
    "! eups list -s | grep lsst_distrib"
   ]
  },
  {
   "cell_type": "code",
   "execution_count": 2,
   "metadata": {},
   "outputs": [],
   "source": [
    "import sys, os, glob, time\n",
    "import numpy as np\n",
    "import matplotlib as mpl\n",
    "import matplotlib.pyplot as plt\n",
    "import astropy.io.fits as pf\n",
    "\n",
    "from lsst.daf.persistence import Butler\n",
    "import lsst.afw.image as afwImage\n",
    "from lsst.daf.persistence import Butler\n",
    "from lsst.ip.isr.isrTask import IsrTask, IsrTaskConfig\n",
    "from lsst.meas.algorithms import SourceDetectionTask\n",
    "from lsst.pipe.tasks.characterizeImage import CharacterizeImageTask, CharacterizeImageConfig\n",
    "\n",
    "import warnings\n",
    "warnings.filterwarnings(\"ignore\")"
   ]
  },
  {
   "cell_type": "code",
   "execution_count": 3,
   "metadata": {},
   "outputs": [],
   "source": [
    "# Set up data path and isrTask and CharTask \n",
    "dataPath = '/mnt/dmcs/oods_butler_repo/repo/'\n",
    "butler = Butler(dataPath)\n",
    "\n",
    "isrConfig = IsrTask.ConfigClass()\n",
    "isrConfig.doLinearize = False\n",
    "isrConfig.doBias = True\n",
    "isrConfig.doFlat = False\n",
    "isrConfig.doDark = False\n",
    "isrConfig.doFringe = False\n",
    "isrConfig.doDefect = False\n",
    "isrConfig.doAddDistortionModel = False\n",
    "isrConfig.doWrite = False\n",
    "isrTask = IsrTask(config=isrConfig)\n",
    "\n",
    "charConfig = CharacterizeImageConfig()\n",
    "charConfig.installSimplePsf.fwhm = 1.0\n",
    "charConfig.doMeasurePsf = False\n",
    "charConfig.doApCorr = False\n",
    "charConfig.doDeblend = False\n",
    "charConfig.repair.doCosmicRay = True\n",
    "charConfig.repair.doInterpolate = False   \n",
    "charConfig.detection.background.binSize = 32\n",
    "charConfig.detection.minPixels = 100\n",
    "charTask = CharacterizeImageTask(config=charConfig)"
   ]
  },
  {
   "cell_type": "code",
   "execution_count": 4,
   "metadata": {},
   "outputs": [
    {
     "name": "stdout",
     "output_type": "stream",
     "text": [
      "[2020012800325, 2020012800326, 2020012800327, 2020012800328]\n"
     ]
    }
   ],
   "source": [
    "# Give the list of images\n",
    "# You can either enter a list or give a starting and ending visit\n",
    "#visitList =[2020012800335] # One of Patrick's images\n",
    "#visitList = [2020012800351,2020012800352,2020012800353,2020012800354,\\\n",
    "#             2020012800355, 2020012800356] # Tiago's 5 moves\n",
    "\n",
    "# The images below are for the displacements in AX and EL that Tiago was running\n",
    "#visitStart = 2020012800351\n",
    "#visitEnd = 2020012800356\n",
    "# The images below are for successive images that Patrick was running\n",
    "visitStart = 2020012800325\n",
    "visitEnd = 2020012800328\n",
    "\n",
    "visitList = []\n",
    "visit = visitStart\n",
    "while visit <= visitEnd:\n",
    "    visitList.append(visit)\n",
    "    visit += 1\n",
    "\n",
    "print(visitList)"
   ]
  },
  {
   "cell_type": "code",
   "execution_count": 7,
   "metadata": {},
   "outputs": [
    {
     "name": "stderr",
     "output_type": "stream",
     "text": [
      "AT_O_20200128_000325: Dark time less than exposure time. Setting dark time to the exposure time.\n",
      "AT_O_20200128_000325: Dark time less than exposure time. Setting dark time to the exposure time.\n"
     ]
    },
    {
     "name": "stdout",
     "output_type": "stream",
     "text": [
      "Found a unique star in image 2020012800325 at (2325.10, 2346.54)\n"
     ]
    },
    {
     "name": "stderr",
     "output_type": "stream",
     "text": [
      "AT_O_20200128_000326: Dark time less than exposure time. Setting dark time to the exposure time.\n",
      "AT_O_20200128_000326: Dark time less than exposure time. Setting dark time to the exposure time.\n"
     ]
    },
    {
     "name": "stdout",
     "output_type": "stream",
     "text": [
      "Found a unique star in image 2020012800326 at (2324.66, 2349.01)\n"
     ]
    },
    {
     "name": "stderr",
     "output_type": "stream",
     "text": [
      "AT_O_20200128_000327: Dark time less than exposure time. Setting dark time to the exposure time.\n",
      "AT_O_20200128_000327: Dark time less than exposure time. Setting dark time to the exposure time.\n"
     ]
    },
    {
     "name": "stdout",
     "output_type": "stream",
     "text": [
      "Found a unique star in image 2020012800327 at (2316.14, 2352.98)\n"
     ]
    },
    {
     "name": "stderr",
     "output_type": "stream",
     "text": [
      "AT_O_20200128_000328: Dark time less than exposure time. Setting dark time to the exposure time.\n",
      "AT_O_20200128_000328: Dark time less than exposure time. Setting dark time to the exposure time.\n"
     ]
    },
    {
     "name": "stdout",
     "output_type": "stream",
     "text": [
      "Found a unique star in image 2020012800328 at (2307.34, 2366.30)\n"
     ]
    }
   ],
   "source": [
    "# Now find the location of the brightest star\n",
    "# Mask out the edges of the chip\n",
    "minX = 500; maxX = 3500; minY = 500; maxY = 3500;\n",
    "minFluxRatio = 0.99\n",
    "xCoords = []; yCoords = []; mjds = []\n",
    "for visitId in visitList:\n",
    "    dataId = {'visit': visitId}\n",
    "    raw=butler.get('raw',dataId)\n",
    "    mjd = raw.getMetadata().toDict()['MJD-BEG']\n",
    "    mjds.append(mjd)\n",
    "    dataRef = butler.dataRef('raw', **dataId)\n",
    "    postIsrExp = isrTask.runDataRef(dataRef).exposure\n",
    "    charResult = charTask.run(postIsrExp)\n",
    "    starCatalog = charResult.sourceCat\n",
    "    #print(len(starCatalog))\n",
    "    select = ((starCatalog['base_SdssCentroid_x'] >= minX) & (starCatalog['base_SdssCentroid_x'] <= maxX) &\n",
    "                    (starCatalog['base_SdssCentroid_y'] >= minY) & (starCatalog['base_SdssCentroid_y'] <= maxY))\n",
    "    starCatalog  = starCatalog.subset(select)  # Mask out the edges, where there is some weird stuff\n",
    "    numStars = len(starCatalog)\n",
    "    if numStars < 1:\n",
    "        print(\"No stars found image %d\"%visitId)\n",
    "        continue\n",
    "    maxFlux = np.nanmax(starCatalog['base_SdssShape_instFlux'])\n",
    "    select = starCatalog['base_SdssShape_instFlux'] > maxFlux * minFluxRatio\n",
    "    starCatalog  = starCatalog.subset(select) # Grab only the highest flux spot\n",
    "    numStars = len(starCatalog)\n",
    "    if numStars < 1:\n",
    "        print(\"No stars found image %d\"%visitId)\n",
    "        continue\n",
    "    elif numStars > 1:\n",
    "        print(\"Didn't find a unique star.  Skipping image %d\"%visitId)\n",
    "    else:\n",
    "        x = starCatalog['base_SdssCentroid_x'][0]\n",
    "        y = starCatalog['base_SdssCentroid_y'][0]\n",
    "        print(\"Found a unique star in image %d at (%.2f, %.2f)\"%(visitId,x,y))\n",
    "        xCoords.append(x)\n",
    "        yCoords.append(y)\n",
    "#print(xCoords, yCoords)\n"
   ]
  },
  {
   "cell_type": "code",
   "execution_count": 13,
   "metadata": {},
   "outputs": [
    {
     "name": "stdout",
     "output_type": "stream",
     "text": [
      "0.0 nan\n",
      "47.10600581020117 0.00531354380090291\n",
      "452.82600328791887 0.002436913617272745\n",
      "671.3030048646033 0.0039570865323246785\n",
      "[0.0, 47.10600581020117, 452.82600328791887, 671.3030048646033] [0.0, 0.2502998251580909, 1.1034978536675222, 2.6564040796588095]\n"
     ]
    }
   ],
   "source": [
    "mjd0 = mjds[0]\n",
    "x0 = xCoords[0]\n",
    "y0 = yCoords[0]\n",
    "rs = []\n",
    "ts = []\n",
    "for i,mjd in enumerate(mjds):\n",
    "    t = (mjd - mjd0) * 24 * 3600\n",
    "    ts.append(t)\n",
    "    r = np.sqrt((xCoords[i] - x0)**2 + (yCoords[i] - y0)**2) * 0.1\n",
    "    rs.append(r)\n",
    "    print(t, r/t)\n",
    "print(ts, rs)"
   ]
  },
  {
   "cell_type": "code",
   "execution_count": null,
   "metadata": {},
   "outputs": [],
   "source": [
    "# Plot the star track\n",
    "figure = plt.figure()\n",
    "plt.scatter(xCoords, yCoords)\n",
    "#plt.plot(xCoords, yCoords, marker='x')\n",
    "plt.xlabel(\"Xcoord(pixels)\")\n",
    "plt.ylabel(\"Ycoord(pixels)\")\n",
    "plt.savefig(\"/home/saluser/develop/ts_notebooks/cslage/graphs/Track.png\")"
   ]
  },
  {
   "cell_type": "code",
   "execution_count": null,
   "metadata": {},
   "outputs": [],
   "source": []
  }
 ],
 "metadata": {
  "kernelspec": {
   "display_name": "Python 3",
   "language": "python",
   "name": "python3"
  },
  "language_info": {
   "codemirror_mode": {
    "name": "ipython",
    "version": 3
   },
   "file_extension": ".py",
   "mimetype": "text/x-python",
   "name": "python",
   "nbconvert_exporter": "python",
   "pygments_lexer": "ipython3",
   "version": "3.7.2"
  }
 },
 "nbformat": 4,
 "nbformat_minor": 4
}
