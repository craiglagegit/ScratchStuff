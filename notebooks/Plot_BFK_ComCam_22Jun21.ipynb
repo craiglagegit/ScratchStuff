{
 "cells": [
  {
   "cell_type": "markdown",
   "metadata": {},
   "source": [
    "# Notebook for plotting BF Kernels generated with Gen 3.\n",
    "\n",
    "Initially written 22 Jun 2021 by Craig Lage."
   ]
  },
  {
   "cell_type": "code",
   "execution_count": null,
   "metadata": {},
   "outputs": [],
   "source": [
    "import os, sys, time, datetime, glob, subprocess\n",
    "import matplotlib.pyplot as plt\n",
    "import numpy as np\n",
    "import astropy.io.fits as pf\n",
    "from scipy import stats\n",
    "from lsst.daf.butler import Butler"
   ]
  },
  {
   "cell_type": "code",
   "execution_count": null,
   "metadata": {},
   "outputs": [],
   "source": [
    "butler = Butler('/repo/main', collections=\n",
    "                ['LSSTComCam/raw/all', 'LSSTComCam/calib', 'LSSTComCam/calib/u/cslage/20210402A'])"
   ]
  },
  {
   "cell_type": "code",
   "execution_count": null,
   "metadata": {},
   "outputs": [],
   "source": [
    "expId = 2021040200025 # I think any exposure within the set of flat pairs will work.\n",
    "DETECTOR = 4\n",
    "dataId={'instrument':'LSSTComCam', 'detector':4, 'exposure':expId}"
   ]
  },
  {
   "cell_type": "code",
   "execution_count": null,
   "metadata": {},
   "outputs": [],
   "source": [
    "ptc_dataset = butler.get('ptc', dataId=dataId)\n",
    "bf_kernel = butler.get('bfk', dataId=dataId)\n",
    "gains = bf_kernel.gain\n",
    "means = bf_kernel.means # Mean flux of flat pairs in electrons\n",
    "rawMeans = ptc_dataset.rawMeans # Mean flux of flat pairs in electrons\n",
    "rawXcorrs = bf_kernel.rawXcorrs # Raw extracted covariances in ADU^2. [0,0] is the variance}\n",
    "meanXcorrs = bf_kernel.meanXcorrs # Extracted covariances used to extract kernel. These are per e-.\n",
    "kernels = bf_kernel.ampKernels # ampwise kernel\n",
    "ptcResults = ptc_dataset.ptcFitPars"
   ]
  },
  {
   "cell_type": "code",
   "execution_count": null,
   "metadata": {},
   "outputs": [],
   "source": [
    "# Now plot the correlations and the kernel. \n",
    "for amp in means.keys():\n",
    "    fig = plt.figure(figsize=(16,5))\n",
    "    plt.subplots_adjust(hspace=0.5)\n",
    "    plt.suptitle(\"COVARIANCES(*1E7)       Amp %s      KERNEL(*1E7)\"%amp, fontsize=24)\n",
    "    plt.subplot(1,4,1)\n",
    "    plt.imshow(np.log10(abs(np.array(meanXcorrs[amp]))))\n",
    "    plt.subplot(1,4,2)\n",
    "    plt.plot([0,16],[0,0], ls='--', color='black')\n",
    "    plt.plot(-meanXcorrs[amp][:,8]*1E7, color='blue', drawstyle='steps-mid')\n",
    "    plt.plot(-meanXcorrs[amp][8,:]*1E7, linestyle='--', color='red', drawstyle='steps-mid')\n",
    "    plt.ylim(-20,10)\n",
    "    plt.subplot(1,4,3)\n",
    "    plt.imshow(kernels[amp])\n",
    "    plt.subplot(1,4,4)  \n",
    "    plt.plot([0,16],[0,0], ls='--', color='black')\n",
    "    plt.plot(kernels[amp][:,8]*1E7, color='blue', drawstyle='steps-mid')\n",
    "    plt.plot(kernels[amp][8,:]*1E7, linestyle='--', color='red', drawstyle='steps-mid')\n",
    "    plt.ylim(-10,2)"
   ]
  },
  {
   "cell_type": "code",
   "execution_count": null,
   "metadata": {},
   "outputs": [],
   "source": []
  }
 ],
 "metadata": {
  "kernelspec": {
   "display_name": "LSST",
   "language": "python",
   "name": "lsst"
  },
  "language_info": {
   "codemirror_mode": {
    "name": "ipython",
    "version": 3
   },
   "file_extension": ".py",
   "mimetype": "text/x-python",
   "name": "python",
   "nbconvert_exporter": "python",
   "pygments_lexer": "ipython3",
   "version": "3.8.8"
  }
 },
 "nbformat": 4,
 "nbformat_minor": 4
}
