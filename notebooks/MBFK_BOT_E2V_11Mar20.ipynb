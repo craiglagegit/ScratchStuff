{
 "cells": [
  {
   "cell_type": "markdown",
   "metadata": {},
   "source": [
    "# Notebook for running makeBrighterFatterKernel.py on BOT data.\n",
    "\n",
    "Initially written 17 Dec 2019 by Craig Lage.\\\n"
   ]
  },
  {
   "cell_type": "code",
   "execution_count": 1,
   "metadata": {},
   "outputs": [
    {
     "name": "stdout",
     "output_type": "stream",
     "text": [
      "lsst_distrib          19.0.0+58  \tcurrent w_2020_09 setup\n",
      "   LOCAL:/home/cslage/alternate_branches/obs_lsst \tsetup\n",
      "   LOCAL:/home/cslage/alternate_branches/cp_pipe \tsetup\n"
     ]
    }
   ],
   "source": [
    "! eups list -s | grep lsst_distrib\n",
    "! eups list -s obs_lsst # tickets/DM-22605\n",
    "! eups list -s cp_pipe # tickets/DM-18683"
   ]
  },
  {
   "cell_type": "code",
   "execution_count": 2,
   "metadata": {},
   "outputs": [],
   "source": [
    "import os, sys, time, datetime, glob, subprocess\n",
    "import matplotlib.pyplot as plt\n",
    "from matplotlib.backends.backend_pdf import PdfPages\n",
    "import numpy as np\n",
    "import astropy.io.fits as pf\n",
    "from scipy import stats\n",
    "from lsst.daf.persistence import Butler\n",
    "from lsst.cp.pipe.makeBrighterFatterKernel import MakeBrighterFatterKernelTask"
   ]
  },
  {
   "cell_type": "code",
   "execution_count": 3,
   "metadata": {},
   "outputs": [],
   "source": [
    "raftName = 'R22'\n",
    "detectorName = 'S11'\n",
    "DATA_DIR = '/project/shared/BOT/'\n",
    "REPO_DIR = '/project/cslage/BOT/E2V_04Mar20/'\n",
    "OUTPUT_DIR = '/project/cslage/BOT/E2V_04Mar20/'\n",
    "DETECTOR = 94"
   ]
  },
  {
   "cell_type": "code",
   "execution_count": 4,
   "metadata": {},
   "outputs": [
    {
     "name": "stdout",
     "output_type": "stream",
     "text": [
      "55\n"
     ]
    }
   ],
   "source": [
    "# This sets up the pairs.  \n",
    "numPairs = 5 # Number of flat pairs per intensity\n",
    "pairs = []\n",
    "starting_visit = 3019110200030\n",
    "ending_visit =   3019110200579\n",
    "visit_1 = starting_visit\n",
    "while visit_1 < ending_visit+1:\n",
    "    for i in range(numPairs):\n",
    "        visit_1A = visit_1 + 2 * i\n",
    "        visit_2 = visit_1A + 1\n",
    "        pairs.append('%s,%s'%(str(visit_1A),str(visit_2)))\n",
    "    visit_1 += 50 # Skipping the frames in between\n",
    "print(len(pairs))"
   ]
  },
  {
   "cell_type": "code",
   "execution_count": 5,
   "metadata": {},
   "outputs": [
    {
     "name": "stdout",
     "output_type": "stream",
     "text": [
      "dict_items([('raftName', 'R22'), ('detectorName', 'S11'), ('visit', 3019110200030)])\n",
      "SDSSi\n"
     ]
    }
   ],
   "source": [
    "spot_visit = 3019110200030\n",
    "butler = Butler(REPO_DIR)\n",
    "dataId = {'raftName':raftName, 'detectorName':detectorName,  'visit':spot_visit}\n",
    "print(dataId.items())\n",
    "rawFlat = butler.get('raw', dataId=dataId)\n",
    "print(rawFlat.getMetadata()['FILTER'])\n",
    "#rawFlat = butler.get('raw', raftName=raftName, detectorName=detectorName,  visit=spot_visit)\n"
   ]
  },
  {
   "cell_type": "code",
   "execution_count": 6,
   "metadata": {},
   "outputs": [
    {
     "name": "stderr",
     "output_type": "stream",
     "text": [
      "/opt/lsst/software/stack/stack/miniconda3-4.7.12-984c9f7/Linux64/pex_config/19.0.0-5-g9aa49c1+1/python/lsst/pex/config/configurableField.py:150: FutureWarning: Config field isr.doAddDistortionModel is deprecated: Camera geometry is incorporated when reading the raw files. This option no longer is used, and will be removed after v19.\n",
      "  self._value.__setattr__(name, value, at=at, label=label)\n",
      "/home/cslage/alternate_branches/cp_pipe/python/lsst/cp/pipe/makeBrighterFatterKernel.py:1233: FutureWarning: `rcond` parameter will change to the default of machine precision times ``max(M, N)`` where M and N are the input matrix dimensions.\n",
      "To use the future default and silence this warning we advise to pass `rcond=None`, to keep using the old, explicitly pass `rcond=-1`.\n",
      "  slope, _, _, _ = np.linalg.lstsq(TEST, y)\n"
     ]
    }
   ],
   "source": [
    "# This calculates the covariances and generates the BF Kernel\n",
    "# It takes a while!  About 30 minutes for one CCD\n",
    "# Once this has been run, you don't need to run it again to generate the plots\n",
    "args = [REPO_DIR, '--output', OUTPUT_DIR, '--id', 'detector=%d'%DETECTOR,  '--visit-pairs']\n",
    "for pair in pairs:\n",
    "    args.append(str(pair))\n",
    "args = args + ['-c','xcorrCheckRejectLevel=2', 'doCalcGains=True', 'level=\"AMP\"', 'forceZeroSum=True', 'biasCorr=1.0',\n",
    "                   'correlationModelRadius=3', 'correlationQuadraticFit=True', 'doPlotPtcs=True', 'isr.doSuspect=False',\n",
    "                   'maxMeanSignal=100000', 'isr.doDark=True', 'isr.doBias=True',\n",
    "                   '--clobber-config', '--clobber-versions']\n",
    "\n",
    "corr_struct = MakeBrighterFatterKernelTask.parseAndRun(args=args)"
   ]
  },
  {
   "cell_type": "code",
   "execution_count": 7,
   "metadata": {},
   "outputs": [],
   "source": [
    "# Now we can get the extracted covariances and kernels and plot them\n",
    "bf_butler = Butler(OUTPUT_DIR)\n",
    "bf_kernel = bf_butler.get('brighterFatterKernel', dataId={'detector': DETECTOR})\n",
    "ptc_dataset = bf_butler.get('photonTransferCurveDataset', dataId={'detector': DETECTOR})\n",
    "gains = bf_kernel.gain\n",
    "means = bf_kernel.means # Mean flux of flat pairs in electrons\n",
    "rawMeans = bf_kernel.rawMeans # Mean flux of flat pairs in electrons\n",
    "rawXcorrs = bf_kernel.rawXcorrs # Raw extracted covariances in ADU^2. [0,0] is the variance}\n",
    "xcorrs = bf_kernel.xCorrs # reduced covariances in e-^2\n",
    "meanXcorrs = bf_kernel.meanXcorrs # Extracted covariances used to extract kernel. These are per e-.\n",
    "kernels = bf_kernel.ampwiseKernels # ampwise kernel\n",
    "ptcResults = ptc_dataset.ptcFitPars"
   ]
  },
  {
   "cell_type": "code",
   "execution_count": 8,
   "metadata": {
    "collapsed": true,
    "jupyter": {
     "outputs_hidden": true
    }
   },
   "outputs": [
    {
     "name": "stdout",
     "output_type": "stream",
     "text": [
      "dict_keys(['C10', 'C11', 'C12', 'C13', 'C14', 'C15', 'C16', 'C17', 'C07', 'C06', 'C05', 'C04', 'C03', 'C02', 'C01', 'C00'])\n",
      "{'C10': 1.1346596105259283, 'C11': 1.1445377185943344, 'C12': 1.156101511940221, 'C13': 1.1511986535718381, 'C14': 1.1561327801482388, 'C15': 1.1545467396301188, 'C16': 1.126347934633317, 'C17': 1.1212274770089832, 'C07': 1.1160020087293105, 'C06': 1.1243578629695998, 'C05': 1.1250761313235864, 'C04': 1.1288602557698648, 'C03': 1.127261626284986, 'C02': 1.1288430029089935, 'C01': 1.1260371221490177, 'C00': 1.1156572450451285}\n",
      "{'C10': array([ 2.77313163e+01,  8.81321579e-01, -2.32855746e-06, -6.74733928e-12]), 'C11': array([ 3.70068449e+01,  8.73715199e-01, -2.17601031e-06, -8.61829356e-12]), 'C12': array([ 3.13757112e+01,  8.64975947e-01, -2.23801275e-06, -8.00272385e-12]), 'C13': array([ 2.39717613e+01,  8.68659807e-01, -2.36354548e-06, -5.79522820e-12]), 'C14': array([ 2.83798203e+01,  8.64952553e-01, -2.35600097e-06, -5.77899246e-12]), 'C15': array([ 2.20659685e+01,  8.66140768e-01, -2.48859851e-06, -4.17540547e-12]), 'C16': array([-1.64389701e+01,  8.87825129e-01, -3.75970196e-06,  1.43323710e-11]), 'C17': array([-2.20574120e+01,  8.91879677e-01, -3.93930157e-06,  1.55314541e-11]), 'C07': array([ 4.93256097e+01,  8.96055735e-01, -2.33708009e-06, -5.18405701e-12]), 'C06': array([ 3.08294045e+01,  8.89396546e-01, -2.33550230e-06, -6.05949532e-12]), 'C05': array([ 4.11876599e+01,  8.88828740e-01, -2.22678018e-06, -6.44072548e-12]), 'C04': array([ 2.69987135e+01,  8.85849240e-01, -2.41443538e-06, -4.11633569e-12]), 'C03': array([ 3.35344982e+01,  8.87105510e-01, -2.21584898e-06, -7.15522792e-12]), 'C02': array([ 3.44722026e+01,  8.85862779e-01, -2.36737126e-06, -4.76858231e-12]), 'C01': array([ 3.70050666e+01,  8.88070189e-01, -2.41231003e-06, -4.85124467e-12]), 'C00': array([ 3.34691300e+01,  8.96332637e-01, -2.27519912e-06, -7.27905512e-12])}\n"
     ]
    }
   ],
   "source": [
    "# Just a check to make sure we got what we wanted\n",
    "print(means.keys()) # Amp names\n",
    "print(gains)\n",
    "print(ptcResults)\n",
    "#print(bf_kernel.ampwiseKernels)"
   ]
  },
  {
   "cell_type": "code",
   "execution_count": 9,
   "metadata": {},
   "outputs": [],
   "source": [
    "# Next, reproduce the Photon Transfer Curves\n",
    "date = OUTPUT_DIR.split('/')[4]\n",
    "plt.figure(figsize=(16,8))\n",
    "plt.subplots_adjust(hspace=0.3,wspace=0.02)\n",
    "plt.suptitle(\"ComCam - %s\"%date,fontsize = 24)\n",
    "plotcounter = 0\n",
    "\n",
    "for amp in means.keys():\n",
    "    plotcounter += 1\n",
    "    plt.subplot(4,4,plotcounter)\n",
    "    plt.title(\"PTC %s\"%amp,fontsize=12)\n",
    "    data = []\n",
    "    for m, [flux1,flux2] in enumerate(rawMeans[amp]):\n",
    "        flux = (flux1 + flux2)/2.0\n",
    "        var = rawXcorrs[amp][m][0,0] / 2.0 # Divide by two because variance of a flat difference is 2X.\n",
    "        data.append([flux, var])\n",
    "    data.sort()\n",
    "    data = np.array(data)\n",
    "    quad_fit = np.polyfit(data[:,0], data[:,1], 2)\n",
    "    plt.scatter(data[:,0], data[:,1],marker='x',color='green')\n",
    "    gain = 1.0 / ptcResults[amp][1]\n",
    "    rms_noise = np.sign(ptcResults[amp][0]) * np.sqrt(abs(ptcResults[amp][0])) * gain\n",
    "    xplot=np.linspace(0.0, 120000.0, 100)\n",
    "    yplot_quad = ptcResults[amp][2]*xplot*xplot + ptcResults[amp][1]*xplot + ptcResults[amp][0]\n",
    "    yplot_linear = ptcResults[amp][1]*xplot + ptcResults[amp][0]\n",
    "    plt.plot(xplot,yplot_linear,color='green', ls='--',label='Linear Fit;Gain=%.3f;Noise=%.1f e-'%(gain,rms_noise))\n",
    "    plt.plot(xplot,yplot_quad,color='red', label='Quadratic fit')\n",
    "\n",
    "    plt.ylim(0,100000)\n",
    "    plt.xlim(0,120000)\n",
    "    #plt.xticks([0,10000,20000])\n",
    "    #plt.yticks([0,2000,4000])\n",
    "    plt.tick_params(left=False,  bottom=False, labelleft=False,  labelbottom=False)\n",
    "    if plotcounter in [1,5,9,13]:\n",
    "        plt.ylabel(\"Variance(ADU^2)\",fontsize=10)\n",
    "        plt.tick_params(left=True, labelleft=True)\n",
    "    if plotcounter in [13,14,15,16]:\n",
    "        plt.xlabel(\"Flux(ADU)\", fontsize=10)\n",
    "        plt.xticks([0,25000,50000,75000,100000])\n",
    "        plt.tick_params(bottom=True, labelbottom=True)\n",
    "        \n",
    "    plt.legend(loc = 'lower right', fontsize = 6)\n",
    "plt.savefig(OUTPUT_DIR+'plots/PTC_Quad_All_%s_%s.pdf'%(date,DETECTOR))"
   ]
  },
  {
   "cell_type": "code",
   "execution_count": 10,
   "metadata": {},
   "outputs": [],
   "source": [
    "# Next plot the covariance vs flux \n",
    "date = OUTPUT_DIR.split('/')[4]\n",
    "NumPairs = 1 # Number of pairs at each flux\n",
    "fluxLevel = 80000.0\n",
    "PlotDelta = 5 # Number of pixels to look at\n",
    "pdf = PdfPages(OUTPUT_DIR+\"plots/Covariance_vs_Flux_%s_%s.pdf\"%(date,DETECTOR))\n",
    "for amp in means.keys():\n",
    "    gain = gains[amp]\n",
    "    NumFluxes = int(len(rawMeans[amp]) / NumPairs)\n",
    "    fig = plt.figure(figsize = (16,8))\n",
    "    plt.suptitle(\"Covariance vs Flux - Amp %s\"%amp, fontsize = 24)\n",
    "    plt.subplots_adjust(wspace=0.3, hspace=0.6)\n",
    "    plotcounter = 0\n",
    "    for jj in range(PlotDelta-1, -1, -1):\n",
    "        for ii in range(PlotDelta):\n",
    "            cov_mean = []\n",
    "            cov_std = []\n",
    "            flux_mean = []\n",
    "            plotcounter += 1\n",
    "            plt.subplot(PlotDelta, PlotDelta, plotcounter)\n",
    "            cov = []\n",
    "            flux = []\n",
    "\n",
    "            for n in range(NumFluxes):\n",
    "                cov_per_flux = []\n",
    "                flux_per_flux = []\n",
    "                for m in range(NumPairs):\n",
    "                    i = n * NumPairs + m\n",
    "                    xcorr = rawXcorrs[amp][i][ii,jj] / 2.0 * gain**2\n",
    "                    mean = (rawMeans[amp][i][0] + rawMeans[amp][i][1]) / 2.0 * gain\n",
    "                    # Throw out values not in the means array\n",
    "                    badValue = True\n",
    "                    for (goodMean0, goodMean1) in means[amp]:\n",
    "                        if abs((mean - goodMean0) / mean) < 0.01:\n",
    "                            badValue = False\n",
    "                            break\n",
    "                    if badValue:\n",
    "                        continue\n",
    "                    if ii == 0 and jj == 0:\n",
    "                        # This is right, but needs double-checking\n",
    "                        xcorr = xcorr - (mean / gain * ptcResults[amp][1] + ptcResults[amp][0])*gain**2\n",
    "                        cov.append(-xcorr)\n",
    "                        cov_per_flux.append(-xcorr)\n",
    "                    else:\n",
    "                        cov.append(xcorr)\n",
    "                        cov_per_flux.append(xcorr)\n",
    "                    flux.append(mean)\n",
    "                    flux_per_flux.append(mean)\n",
    "                if len(cov_per_flux) == 0:\n",
    "                    continue\n",
    "                cov_per_flux = np.array(cov_per_flux)\n",
    "                flux_per_flux = np.array(flux_per_flux)\n",
    "                cov_mean.append(cov_per_flux.mean())\n",
    "                cov_std.append(cov_per_flux.std())\n",
    "                flux_mean.append(flux_per_flux.mean())\n",
    "            cov = np.array(cov)\n",
    "            flux = np.array(flux)\n",
    "            plt.scatter(flux, cov, color='blue', marker='.', s=20)\n",
    "            cov_mean = np.array(cov_mean)\n",
    "            cov_std = np.array(cov_std)\n",
    "            flux_mean = np.array(flux_mean)\n",
    "            cov_mean = cov_mean#*flux_mean*flux_mean\n",
    "            cov_std = cov_std#*flux_mean*flux_mean\n",
    "\n",
    "            plt.errorbar(flux_mean,cov_mean,yerr=cov_std,color='green',marker='x',ls='None')  \n",
    "            \n",
    "            if ii == 0 and jj == 0:\n",
    "                corrValue = meanXcorrs[amp][jj+8,ii+8]*fluxLevel*fluxLevel\n",
    "            else:\n",
    "                corrValue = -meanXcorrs[amp][jj+8,ii+8]*fluxLevel*fluxLevel\n",
    "            plt.scatter(fluxLevel, corrValue, color = 'red', marker='o')\n",
    "            plt.title(\"Pixel: (%d, %d)\"%(ii, jj), fontsize = 12)\n",
    "            coefs = np.polyfit(flux*flux, cov, 1)\n",
    "            xplot = np.linspace(0,150000, 100)\n",
    "            yplot = max(0, coefs[0])*xplot*xplot\n",
    "            plt.plot(xplot,yplot, color = 'red', lw = 2)\n",
    "            if jj == 0:\n",
    "                plt.xlabel(\"Central Pixel Charge(e-)\", fontsize = 12)\n",
    "            if ii == 0:\n",
    "                plt.ylabel(\"Correlation\", fontsize = 12)\n",
    "            plt.xlim(0,120000)\n",
    "            plt.xticks([0,100000],fontsize = 12)\n",
    "            if ii == 0 and jj == 0:\n",
    "                plt.yticks([0,10000],fontsize = 12)\n",
    "                plt.ylim(-1000,30000)\n",
    "            elif ii == 0 and jj == 1:\n",
    "                plt.yticks([0,2000,4000],fontsize = 12)\n",
    "                plt.ylim(-500,4000)\n",
    "            elif ii == 2 and jj == 0:\n",
    "                plt.yticks([0,500,1000],fontsize = 12)\n",
    "                plt.ylim(-100,1000)\n",
    "            elif ii == 1 and jj < 2:\n",
    "                plt.yticks([0,1000,2000],fontsize = 12)\n",
    "                plt.ylim(-500,2000)\n",
    "            else:\n",
    "                plt.yticks([-200,0,200],fontsize = 12)\n",
    "                plt.ylim(-200,500)\n",
    "\n",
    "    pdf.savefig(fig)  # saves the current figure into a pdf page\n",
    "    plt.close()\n",
    "pdf.close()\n"
   ]
  },
  {
   "cell_type": "code",
   "execution_count": 11,
   "metadata": {},
   "outputs": [],
   "source": [
    "# Now plot the correlations and the kernel. \n",
    "date = OUTPUT_DIR.split('/')[4]\n",
    "pdf = PdfPages(OUTPUT_DIR+\"plots/Corr_Kernel_Comparison_%s_%s.pdf\"%(date,DETECTOR))\n",
    "for amp in means.keys():\n",
    "    fig = plt.figure(figsize=(16,5))\n",
    "    plt.subplots_adjust(hspace=0.5)\n",
    "    plt.suptitle(\"COVARIANCES(*1E7)       Amp %s      KERNEL(*1E7)\"%amp, fontsize=24)\n",
    "    plt.subplot(1,4,1)\n",
    "    plt.imshow(np.log10(abs(np.array(meanXcorrs[amp]))))\n",
    "    plt.subplot(1,4,2)\n",
    "    plt.plot([0,16],[0,0], ls='--', color='black')\n",
    "    #plt.yticks([])  \n",
    "    plt.plot(-meanXcorrs[amp][:,8]*1E7, color='blue', drawstyle='steps-mid')\n",
    "    plt.plot(-meanXcorrs[amp][8,:]*1E7, linestyle='--', color='red', drawstyle='steps-mid')\n",
    "    plt.ylim(-40,10)\n",
    "    plt.subplot(1,4,3)\n",
    "    plt.imshow(kernels[amp])\n",
    "    plt.subplot(1,4,4)  \n",
    "    plt.plot([0,16],[0,0], ls='--', color='black')\n",
    "    plt.plot(kernels[amp][:,8]*1E7, color='blue', drawstyle='steps-mid')\n",
    "    plt.plot(kernels[amp][8,:]*1E7, linestyle='--', color='red', drawstyle='steps-mid')\n",
    "    plt.ylim(-10,2)\n",
    "    pdf.savefig(fig)  # saves the current figure into a pdf page\n",
    "    plt.close()\n",
    "pdf.close()\n"
   ]
  },
  {
   "cell_type": "code",
   "execution_count": 12,
   "metadata": {},
   "outputs": [],
   "source": [
    "# Plot the correlations as a function of pixel \n",
    "date = OUTPUT_DIR.split('/')[4]\n",
    "pdf = PdfPages(OUTPUT_DIR+\"plots/Covariance_Matrix_%s_%s.pdf\"%(date,DETECTOR))\n",
    "NumPairs = 1\n",
    "NumFluxes = int(len(means['C12']) / NumPairs)\n",
    "for amp in means.keys():\n",
    "    try:\n",
    "        NumFluxes = int(len(means[amp]) / NumPairs)\n",
    "        posrs = []\n",
    "        negrs = []\n",
    "        poscs = []\n",
    "        negcs = []\n",
    "        fitrs = []\n",
    "        fitcs = []\n",
    "        poserrs = []\n",
    "        negerrs = []\n",
    "        for ii in range(17):\n",
    "            for jj in range(17):\n",
    "                r2 = (ii-8)**2 + (jj-8)**2\n",
    "                value = meanXcorrs[amp][ii,jj]\n",
    "                n = NumFluxes - 1\n",
    "                cov = []\n",
    "                for m in range(NumPairs):\n",
    "                    i = n * NumPairs + m\n",
    "                    xcorr = xcorrs[amp][i][abs(ii-8),abs(jj-8)]\n",
    "                    cov.append(xcorr)\n",
    "                cov = np.array(cov)\n",
    "                if ii == 8 and jj == 8:\n",
    "                    negcs.append(abs(value))\n",
    "                    negrs.append(0.85)\n",
    "                    negerrs.append(abs(cov.std()))\n",
    "                elif value < 0.0:\n",
    "                    poscs.append(abs(value))\n",
    "                    posrs.append(r2)\n",
    "                    poserrs.append(abs(cov.std()))\n",
    "                    if r2 > 1.1 and r2 < 20.0:\n",
    "                        fitrs.append(np.log10(r2))\n",
    "                        fitcs.append(np.log10(abs(value)))\n",
    "                else:\n",
    "                    negcs.append(abs(value))\n",
    "                    negrs.append(r2)\n",
    "                    negerrs.append(abs(cov.std()))\n",
    "\n",
    "        slope, intercept, r_value, p_value, std_err = stats.linregress(fitrs,fitcs)\n",
    "\n",
    "        fig = plt.figure(figsize=(16,8))\n",
    "        plt.title(\"Covariance Matrix - %s\"%amp, fontsize = 24)\n",
    "        plt.errorbar(posrs, poscs, yerr=poserrs, color='blue', marker = 'o', markersize = 8, ls = '', label = 'Positive Meas')\n",
    "        plt.errorbar(negrs, negcs, yerr=negerrs, color='red', marker = 'o', markersize = 8, ls = '', label = 'Negative Meas')\n",
    "\n",
    "        plt.text(1.2, 5E-6, \"C00: Meas = %.4g\"%(-meanXcorrs[amp][8,8]), fontsize = 24)\n",
    "        plt.text(1.2, 2.5E-6, \"C01: Meas = %.4g\"%(-meanXcorrs[amp][9,8]), fontsize = 24)\n",
    "        plt.text(1.2, 1.25E-6, \"C10: Meas = %.4g\"%(-meanXcorrs[amp][8,9]), fontsize = 24)\n",
    "        plt.text(1.2, 6.25E-7, \"C11: Meas = %.4g\"%(-meanXcorrs[amp][9,9]), fontsize = 24)\n",
    "        xplot = np.linspace(1.0,200,100)\n",
    "        yplot = 10.0**intercept * xplot**(slope)\n",
    "        #plot(xplot,yplot,ls='--',color='green')\n",
    "        plt.xscale('log')\n",
    "        plt.yscale('log')\n",
    "        plt.xlim(0.8,100)\n",
    "        plt.ylim(1E-10,1E-5)\n",
    "        plt.xticks([1.0, 10.0, 100.0], fontsize=24)\n",
    "        plt.yticks([1E-10, 1E-9, 1E-8, 1E-7, 1E-6, 1E-5], fontsize=24)\n",
    "        plt.xlabel(\"$i^2 + j^2$\", fontsize = 24)\n",
    "        plt.ylabel(\"Covariance or $\\delta$ Area/Area\", fontsize = 24)\n",
    "        plt.legend(fontsize=24)\n",
    "        pdf.savefig(fig)  # saves the current figure into a pdf page\n",
    "        plt.close()\n",
    "    except:\n",
    "        print(\"Skipping amp %s\"%amp)\n",
    "        continue\n",
    "pdf.close()"
   ]
  },
  {
   "cell_type": "code",
   "execution_count": null,
   "metadata": {},
   "outputs": [],
   "source": []
  }
 ],
 "metadata": {
  "kernelspec": {
   "display_name": "LSST",
   "language": "python",
   "name": "lsst"
  },
  "language_info": {
   "codemirror_mode": {
    "name": "ipython",
    "version": 3
   },
   "file_extension": ".py",
   "mimetype": "text/x-python",
   "name": "python",
   "nbconvert_exporter": "python",
   "pygments_lexer": "ipython3",
   "version": "3.8.8"
  }
 },
 "nbformat": 4,
 "nbformat_minor": 4
}
