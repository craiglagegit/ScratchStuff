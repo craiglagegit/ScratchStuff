{
 "cells": [
  {
   "cell_type": "code",
   "execution_count": 7,
   "metadata": {
    "collapsed": true
   },
   "outputs": [],
   "source": [
    "import matplotlib.pyplot as plt\n",
    "%matplotlib inline\n",
    "import lsst.sims.maf.db as db\n",
    "import lsst.sims.maf.metrics as metrics\n",
    "import lsst.sims.maf.slicers as slicers\n",
    "import lsst.sims.maf.metricBundles as metricBundles\n",
    "import lsst.sims.maf.utils as utils\n"
   ]
  },
  {
   "cell_type": "code",
   "execution_count": 10,
   "metadata": {
    "collapsed": false
   },
   "outputs": [],
   "source": [
    "# Set up the database connection\n",
    "filters = ['u','g','r','i','z','y']\n",
    "runName = 'enigma_1189'\n",
    "opsdb = db.OpsimDatabase(runName+'_sqlite.db')\n",
    "outDir = 'RawSeeing'\n",
    "resultsDb = db.ResultsDb(outDir=outDir)\n",
    "propids, propTags = opsdb.fetchPropInfo()\n",
    "wfdWhere = utils.createSQLWhere('WFD', propTags)"
   ]
  },
  {
   "cell_type": "code",
   "execution_count": 12,
   "metadata": {
    "collapsed": false
   },
   "outputs": [],
   "source": [
    "bundleList = []\n",
    "for f in filters:\n",
    "    sql = wfdWhere+' and filter=\"%s\"' % f\n",
    "    slicer = slicers.UniSlicer()\n",
    "    metric = metrics.MedianMetric(col='rawSeeing')\n",
    "    bundleList.append(metricBundles.MetricBundle(metric, slicer, sql,runName=runName))\n",
    "bd = metricBundles.makeBundlesDictFromList(bundleList)"
   ]
  },
  {
   "cell_type": "code",
   "execution_count": 13,
   "metadata": {
    "collapsed": false
   },
   "outputs": [
    {
     "name": "stdout",
     "output_type": "stream",
     "text": [
      "Querying database with constraint propID = 364 and filter=\"z\"\n",
      "Found 417684 visits\n",
      "Running:  ['enigma_1189_Median_rawSeeing_propID_364_and_z_UNIS']\n",
      "Completed metric generation.\n",
      "Running reduce methods.\n",
      "Running summary statistics.\n",
      "Completed.\n",
      "Querying database with constraint propID = 364 and filter=\"g\"\n",
      "Found 203973 visits\n",
      "Running:  ['enigma_1189_Median_rawSeeing_propID_364_and_g_UNIS']\n",
      "Completed metric generation.\n",
      "Running reduce methods.\n",
      "Running summary statistics.\n",
      "Completed.\n",
      "Querying database with constraint propID = 364 and filter=\"i\"\n",
      "Found 464616 visits\n",
      "Running:  ['enigma_1189_Median_rawSeeing_propID_364_and_i_UNIS']\n",
      "Completed metric generation.\n",
      "Running reduce methods.\n",
      "Running summary statistics.\n",
      "Completed.\n",
      "Querying database with constraint propID = 364 and filter=\"u\"\n",
      "Found 145258 visits\n",
      "Running:  ['enigma_1189_Median_rawSeeing_propID_364_and_u_UNIS']\n",
      "Completed metric generation.\n",
      "Running reduce methods.\n",
      "Running summary statistics.\n",
      "Completed.\n",
      "Querying database with constraint propID = 364 and filter=\"y\"\n",
      "Found 414502 visits\n",
      "Running:  ['enigma_1189_Median_rawSeeing_propID_364_and_y_UNIS']\n",
      "Completed metric generation.\n",
      "Running reduce methods.\n",
      "Running summary statistics.\n",
      "Completed.\n",
      "Querying database with constraint propID = 364 and filter=\"r\"\n",
      "Found 463866 visits\n",
      "Running:  ['enigma_1189_Median_rawSeeing_propID_364_and_r_UNIS']\n",
      "Completed metric generation.\n",
      "Running reduce methods.\n",
      "Running summary statistics.\n",
      "Completed.\n",
      "Plotting figures with propID = 364 and filter=\"z\" sqlconstraint now.\n",
      "Plotting complete.\n",
      "Plotting figures with propID = 364 and filter=\"g\" sqlconstraint now.\n",
      "Plotting complete.\n",
      "Plotting figures with propID = 364 and filter=\"i\" sqlconstraint now.\n",
      "Plotting complete.\n",
      "Plotting figures with propID = 364 and filter=\"u\" sqlconstraint now.\n",
      "Plotting complete.\n",
      "Plotting figures with propID = 364 and filter=\"y\" sqlconstraint now.\n",
      "Plotting complete.\n",
      "Plotting figures with propID = 364 and filter=\"r\" sqlconstraint now.\n",
      "Plotting complete.\n"
     ]
    }
   ],
   "source": [
    "bgroup = metricBundles.MetricBundleGroup(bd, opsdb, outDir=outDir, resultsDb=resultsDb)\n",
    "bgroup.runAll()"
   ]
  },
  {
   "cell_type": "code",
   "execution_count": 17,
   "metadata": {
    "collapsed": false
   },
   "outputs": [
    {
     "name": "stdout",
     "output_type": "stream",
     "text": [
      "enigma_1189 propID = 364 and filter=\"u\" [0.612021]\n",
      "enigma_1189 propID = 364 and filter=\"g\" [0.618299]\n",
      "enigma_1189 propID = 364 and filter=\"r\" [0.604193]\n",
      "enigma_1189 propID = 364 and filter=\"i\" [0.609576]\n",
      "enigma_1189 propID = 364 and filter=\"z\" [0.609359]\n",
      "enigma_1189 propID = 364 and filter=\"y\" [0.607038]\n"
     ]
    }
   ],
   "source": [
    "for b in bundleList:\n",
    "    print runName, b.sqlconstraint, b.metricValues"
   ]
  },
  {
   "cell_type": "code",
   "execution_count": 18,
   "metadata": {
    "collapsed": false
   },
   "outputs": [],
   "source": [
    "runName = 'minion_1008'\n",
    "opsdb = db.OpsimDatabase(runName+'_sqlite.db')\n",
    "outDir = 'RawSeeing'\n",
    "resultsDb = db.ResultsDb(outDir=outDir)\n",
    "propids, propTags = opsdb.fetchPropInfo()\n",
    "wfdWhere = utils.createSQLWhere('WFD', propTags)"
   ]
  },
  {
   "cell_type": "code",
   "execution_count": 19,
   "metadata": {
    "collapsed": false
   },
   "outputs": [
    {
     "name": "stdout",
     "output_type": "stream",
     "text": [
      "Querying database with constraint propID = 31 and filter=\"u\"\n",
      "Found 145130 visits\n",
      "Running:  ['minion_1008_Median_rawSeeing_propID_31_and_u_UNIS']\n",
      "Completed metric generation.\n",
      "Running reduce methods.\n",
      "Running summary statistics.\n",
      "Completed.\n",
      "Querying database with constraint propID = 31 and filter=\"i\"\n",
      "Found 463500 visits\n",
      "Running:  ['minion_1008_Median_rawSeeing_propID_31_and_i_UNIS']\n",
      "Completed metric generation.\n",
      "Running reduce methods.\n",
      "Running summary statistics.\n",
      "Completed.\n",
      "Querying database with constraint propID = 31 and filter=\"z\"\n",
      "Found 414715 visits\n",
      "Running:  ['minion_1008_Median_rawSeeing_propID_31_and_z_UNIS']\n",
      "Completed metric generation.\n",
      "Running reduce methods.\n",
      "Running summary statistics.\n",
      "Completed.\n",
      "Querying database with constraint propID = 31 and filter=\"y\"\n",
      "Found 414577 visits\n",
      "Running:  ['minion_1008_Median_rawSeeing_propID_31_and_y_UNIS']\n",
      "Completed metric generation.\n",
      "Running reduce methods.\n",
      "Running summary statistics.\n",
      "Completed.\n",
      "Querying database with constraint propID = 31 and filter=\"r\"\n",
      "Found 462880 visits\n",
      "Running:  ['minion_1008_Median_rawSeeing_propID_31_and_r_UNIS']\n",
      "Completed metric generation.\n",
      "Running reduce methods.\n",
      "Running summary statistics.\n",
      "Completed.\n",
      "Querying database with constraint propID = 31 and filter=\"g\"\n",
      "Found 203286 visits\n",
      "Running:  ['minion_1008_Median_rawSeeing_propID_31_and_g_UNIS']\n",
      "Completed metric generation.\n",
      "Running reduce methods.\n",
      "Running summary statistics.\n",
      "Completed.\n",
      "minion_1008 propID = 31 and filter=\"u\" [0.597083]\n",
      "minion_1008 propID = 31 and filter=\"g\" [0.602832]\n",
      "minion_1008 propID = 31 and filter=\"r\" [0.607076]\n",
      "minion_1008 propID = 31 and filter=\"i\" [0.612348]\n",
      "minion_1008 propID = 31 and filter=\"z\" [0.609695]\n",
      "minion_1008 propID = 31 and filter=\"y\" [0.613202]\n"
     ]
    }
   ],
   "source": [
    "bundleList = []\n",
    "for f in filters:\n",
    "    sql = wfdWhere+' and filter=\"%s\"' % f\n",
    "    slicer = slicers.UniSlicer()\n",
    "    metric = metrics.MedianMetric(col='rawSeeing')\n",
    "    bundleList.append(metricBundles.MetricBundle(metric, slicer, sql,runName=runName))\n",
    "bd = metricBundles.makeBundlesDictFromList(bundleList)\n",
    "bgroup = metricBundles.MetricBundleGroup(bd, opsdb, outDir=outDir, resultsDb=resultsDb)\n",
    "bgroup.runAll()\n",
    "for b in bundleList:\n",
    "    print runName, b.sqlconstraint, b.metricValues"
   ]
  },
  {
   "cell_type": "code",
   "execution_count": null,
   "metadata": {
    "collapsed": true
   },
   "outputs": [],
   "source": []
  }
 ],
 "metadata": {
  "kernelspec": {
   "display_name": "Python 2",
   "language": "python",
   "name": "python2"
  },
  "language_info": {
   "codemirror_mode": {
    "name": "ipython",
    "version": 2
   },
   "file_extension": ".py",
   "mimetype": "text/x-python",
   "name": "python",
   "nbconvert_exporter": "python",
   "pygments_lexer": "ipython2",
   "version": "2.7.10"
  }
 },
 "nbformat": 4,
 "nbformat_minor": 0
}
